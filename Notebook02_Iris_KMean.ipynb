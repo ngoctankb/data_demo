{
 "cells": [
  {
   "cell_type": "code",
   "execution_count": null,
   "id": "0f54ae94",
   "metadata": {},
   "outputs": [],
   "source": [
    "import pandas as pd\n",
    "from sklearn.cluster import KMeans"
   ]
  },
  {
   "cell_type": "code",
   "execution_count": null,
   "id": "4fc816b8",
   "metadata": {},
   "outputs": [],
   "source": [
    "# Read data from file Github_Iris.csv in Workspace03/Lakehouse04\n",
    "df = pd.read_csv('abfss://Workspace03@onelake.dfs.fabric.microsoft.com/Lakehouse04.Lakehouse/Files/Github_Iris.csv')\n",
    "df.head()"
   ]
  },
  {
   "cell_type": "code",
   "execution_count": null,
   "id": "9cca1ce1",
   "metadata": {},
   "outputs": [],
   "source": [
    "# Choose features\n",
    "column_for_cluster = ['sepallength', 'sepalwidth', 'petallength', 'petalwidth']\n",
    "X = df[column_for_cluster]\n",
    "X.head()"
   ]
  },
  {
   "cell_type": "code",
   "execution_count": null,
   "id": "4022eab7",
   "metadata": {},
   "outputs": [],
   "source": [
    "# Build clustering model\n",
    "model_km = KMeans(n_clusters=3)\n",
    "model_km.fit(X)"
   ]
  },
  {
   "cell_type": "code",
   "execution_count": null,
   "id": "150a4758",
   "metadata": {},
   "outputs": [],
   "source": [
    "df['cluster'] = model_km.labels_\n",
    "df.head()"
   ]
  },
  {
   "cell_type": "code",
   "execution_count": null,
   "id": "c0c1d7ff",
   "metadata": {},
   "outputs": [],
   "source": [
    "# Save results to Files folder on Workspace03/Lakehouse05\n",
    "df.to_csv('abfss://Workspace03@onelake.dfs.fabric.microsoft.com/Lakehouse05.Lakehouse/Files/Iris_cluster_kmean.csv', index=False)"
   ]
  },
  {
   "cell_type": "code",
   "execution_count": null,
   "id": "fe98c363",
   "metadata": {},
   "outputs": [],
   "source": [
    "# Save results to to Files folder on Workspace03/Lakehouse05\n",
    "df.to_parquet('abfss://Workspace03@onelake.dfs.fabric.microsoft.com/Lakehouse05.Lakehouse/Files/Iris_cluster_kmean.parquet')"
   ]
  },
  {
   "cell_type": "code",
   "execution_count": null,
   "id": "aca56366",
   "metadata": {},
   "outputs": [],
   "source": [
    "# Save results to Tables folder  Workspace03/Lakehouse05\n",
    "df1 = spark.createDataFrame(df)\n",
    "df1.write.mode('overwrite').format('delta').saveAsTable('Iris_cluster_kmean')"
   ]
  },
  {
   "cell_type": "code",
   "execution_count": null,
   "id": "bfb24679",
   "metadata": {},
   "outputs": [],
   "source": [
    "# Plot the restults\n",
    "import matplotlib.pyplot as plt\n",
    "import seaborn as sns\n",
    "df_plot = df[['sepallength', 'sepalwidth', 'cluster']]\n",
    "g = sns.scatterplot(data=df_plot, x='sepallength', y='sepalwidth', hue='cluster')"
   ]
  }
 ],
 "metadata": {
  "kernelspec": {
   "display_name": "Python 3 (ipykernel)",
   "language": "python",
   "name": "python3"
  },
  "language_info": {
   "codemirror_mode": {
    "name": "ipython",
    "version": 3
   },
   "file_extension": ".py",
   "mimetype": "text/x-python",
   "name": "python",
   "nbconvert_exporter": "python",
   "pygments_lexer": "ipython3",
   "version": "3.7.9"
  }
 },
 "nbformat": 4,
 "nbformat_minor": 5
}
